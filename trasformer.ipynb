{
 "cells": [
  {
   "cell_type": "markdown",
   "source": [
    "# Understanding transformer in Neural machine translation"
   ],
   "metadata": {
    "collapsed": false
   },
   "id": "164da7c086bac6d"
  },
  {
   "cell_type": "markdown",
   "source": [
    "## Outline\n",
    "- What is transformer?\n",
    "- Setup environment\n",
    "- Setup data and processing data\n",
    "- Test dataset\n",
    "- Build model\n",
    "- Training \n",
    "- Run inference\n",
    "- Export model, save model"
   ],
   "metadata": {
    "collapsed": false
   },
   "id": "f7363213ac3ee95b"
  },
  {
   "cell_type": "code",
   "outputs": [],
   "source": [],
   "metadata": {
    "collapsed": false
   },
   "id": "f00a39c5b28ed70c"
  }
 ],
 "metadata": {
  "kernelspec": {
   "display_name": "Python 3",
   "language": "python",
   "name": "python3"
  },
  "language_info": {
   "codemirror_mode": {
    "name": "ipython",
    "version": 2
   },
   "file_extension": ".py",
   "mimetype": "text/x-python",
   "name": "python",
   "nbconvert_exporter": "python",
   "pygments_lexer": "ipython2",
   "version": "2.7.6"
  }
 },
 "nbformat": 4,
 "nbformat_minor": 5
}
